{
  "nbformat": 4,
  "nbformat_minor": 0,
  "metadata": {
    "colab": {
      "provenance": [],
      "gpuType": "T4"
    },
    "kernelspec": {
      "name": "python3",
      "display_name": "Python 3"
    },
    "language_info": {
      "name": "python"
    },
    "accelerator": "GPU"
  },
  "cells": [
    {
      "cell_type": "code",
      "source": [
        "import numpy as np\n",
        "import matplotlib.pyplot as plt\n",
        "\n",
        "import cv2\n",
        "import os\n",
        "\n",
        "import torch\n",
        "import torchvision\n",
        "from torchvision import transforms"
      ],
      "metadata": {
        "id": "1iy7DIcWGaB0"
      },
      "execution_count": 1,
      "outputs": []
    },
    {
      "cell_type": "code",
      "source": [
        "train_dataset = torchvision.datasets.MNIST(root='/content/drive/MyDrive/data', train=True, transform=transforms.ToTensor())\n",
        "test_dataset = torchvision.datasets.MNIST(root='/content/drive/MyDrive/data', train=False, transform=transforms.ToTensor())"
      ],
      "metadata": {
        "id": "eLrLk91lmT2N"
      },
      "execution_count": 38,
      "outputs": []
    },
    {
      "cell_type": "code",
      "source": [
        "np.array(train_dataset[0][0]).shape"
      ],
      "metadata": {
        "colab": {
          "base_uri": "https://localhost:8080/"
        },
        "id": "mTsH9avCpk79",
        "outputId": "adf90b41-a179-48aa-be8c-e684d303804c"
      },
      "execution_count": 14,
      "outputs": [
        {
          "output_type": "execute_result",
          "data": {
            "text/plain": [
              "(1, 28, 28)"
            ]
          },
          "metadata": {},
          "execution_count": 14
        }
      ]
    },
    {
      "cell_type": "code",
      "source": [
        "batch_size = 32\n",
        "train_dataloader = torch.utils.data.DataLoader(\n",
        "    train_dataset,\n",
        "    batch_size=batch_size,\n",
        "    shuffle=True,\n",
        "    num_workers=2\n",
        ")\n",
        "\n",
        "test_dataloader = torch.utils.data.DataLoader(\n",
        "    test_dataset,\n",
        "    batch_size=batch_size,\n",
        "    shuffle=True,\n",
        "    num_workers=2\n",
        ")\n",
        "\n",
        "classes = [str(i) for i in range(10)]"
      ],
      "metadata": {
        "colab": {
          "base_uri": "https://localhost:8080/"
        },
        "id": "NfOERc8lnaBe",
        "outputId": "76b52d34-aa60-406c-89b6-dec4705b1009"
      },
      "execution_count": 25,
      "outputs": [
        {
          "output_type": "stream",
          "name": "stdout",
          "text": [
            "<torch.utils.data.dataloader.DataLoader object at 0x78449e903710>\n"
          ]
        }
      ]
    },
    {
      "cell_type": "code",
      "source": [
        "figure = plt.figure(figsize=(8, 8))\n",
        "cols, rows = 3, 3\n",
        "for i in range(1, cols * rows + 1):\n",
        "    # Lấy index ngẫu nhiên\n",
        "    sample_idx = torch.randint(len(train_dataset), size=(1,)).item()\n",
        "    # Lấy dữ liệu ngẫu nhiên bằng index\n",
        "    img, label = train_dataset[sample_idx]\n",
        "    figure.add_subplot(rows, cols, i)\n",
        "    plt.title(label)\n",
        "    plt.axis(\"off\")\n",
        "    # Vẽ ảnh\n",
        "    plt.imshow(img.squeeze(), cmap=\"gray\")\n",
        "plt.show()"
      ],
      "metadata": {
        "colab": {
          "base_uri": "https://localhost:8080/",
          "height": 675
        },
        "id": "Md31O3sHnQBG",
        "outputId": "6b50eea3-805b-49ab-8d30-95f92afc0091"
      },
      "execution_count": 42,
      "outputs": [
        {
          "output_type": "display_data",
          "data": {
            "text/plain": [
              "<Figure size 800x800 with 9 Axes>"
            ],
            "image/png": "[encoded data removed]"
          },
          "metadata": {}
        }
      ]
    },
    {
      "cell_type": "code",
      "source": [
        "device = torch.device('cuda' if torch.cuda.is_available() else 'cpu')\n",
        "device"
      ],
      "metadata": {
        "colab": {
          "base_uri": "https://localhost:8080/"
        },
        "id": "lEZk6I29n41U",
        "outputId": "26a45292-5d7a-4280-eeb2-ae0769a754d8"
      },
      "execution_count": 6,
      "outputs": [
        {
          "output_type": "execute_result",
          "data": {
            "text/plain": [
              "device(type='cuda')"
            ]
          },
          "metadata": {},
          "execution_count": 6
        }
      ]
    },
    {
      "cell_type": "code",
      "source": [
        "class CNN(torch.nn.Module):\n",
        "  def __init__(self):\n",
        "    super(CNN, self).__init__()\n",
        "    self.cnn_layers = torch.nn.Sequential(\n",
        "        # Convolutional Layer. 64 filter\n",
        "        torch.nn.Conv2d(1, 64, kernel_size=5, stride=1, padding=\"valid\"),\n",
        "        # Relu layer sau convolution\n",
        "        torch.nn.ReLU(),\n",
        "        torch.nn.Conv2d(64, 128, kernel_size=3, padding=\"valid\"),\n",
        "        torch.nn.ReLU(),\n",
        "        # Bỏ bớt 10% output từ filter layer trước\n",
        "        torch.nn.Dropout2d(0.1),\n",
        "        # Max pooling 2x2\n",
        "        torch.nn.MaxPool2d(2),\n",
        "        torch.nn.Conv2d(128, 256, kernel_size=3, padding=\"valid\"),\n",
        "        torch.nn.ReLU(),\n",
        "        torch.nn.Dropout2d(0.1),\n",
        "        torch.nn.MaxPool2d(3),\n",
        "        # Từ kết quả neuron phân bố 2D thành 1D\n",
        "        torch.nn.Flatten(start_dim=1, end_dim=-1),\n",
        "        # Bắt đầu layer Fully Connected của Neural Network bình thường\n",
        "        torch.nn.LazyLinear(),\n",
        "        torch.nn.ReLU(),\n",
        "        # Bỏ 10% neuron ngẫu nhiên.\n",
        "        torch.nn.Dropout(0.1),\n",
        "        torch.nn.LazyLinear(),\n",
        "        # Layer output dự đoán ảnh thuộc label nào\n",
        "        torch.nn.Softmax()\n",
        "    )\n",
        "    def forward(self, X):\n",
        "        # Chạy toàn bộ layer\n",
        "        result = self.cnn_layers(X)\n",
        "        return result"
      ],
      "metadata": {
        "id": "bNKTKKnGoDbd"
      },
      "execution_count": 41,
      "outputs": []
    },
    {
      "cell_type": "code",
      "source": [
        "cnn = CNN()\n",
        "cnn = cnn.to(device)"
      ],
      "metadata": {
        "id": "ByWKWJXZrLik"
      },
      "execution_count": 20,
      "outputs": []
    },
    {
      "cell_type": "code",
      "source": [
        "# Hàm lấy sai số và hàm tối ưu\n",
        "loss_fn = torch.nn.CrossEntropyLoss()\n",
        "optimizer = torch.optim.Adam(params=cnn.parameters(), lr=0.001, weight_decay=0.001)"
      ],
      "metadata": {
        "id": "s6E5CeD3rNs7"
      },
      "execution_count": 21,
      "outputs": []
    },
    {
      "cell_type": "code",
      "source": [
        "# 1 epoch là 1 lần model train toàn bộ dữ liệu\n",
        "epochs = 6\n",
        "\n",
        "for epoch in range(1, epochs + 1):\n",
        "    correct = 0\n",
        "    total_loss = 0\n",
        "    # Từ Dataloader định nghĩa ở trên, ta sẽ lấy 32 ảnh và 32 labels.\n",
        "    for X, y in train_dataloader:\n",
        "        # Chuyển dữ liệu này cho GPU hoặc CPU\n",
        "        # X là ảnh, y là label\n",
        "        X = X.to(device)\n",
        "        y = y.to(device)\n",
        "\n",
        "        # Thử đưa 32 ảnh cho model CNN để dự đoán\n",
        "        # Kết quả là cho mỗi ảnh có 10 xác xuất (tương ứng với 10 labels), xác xuất càng cao thì model càng chắc chắn về dự đoán\n",
        "        pred_y = cnn(X)\n",
        "        # Tính Cross Entropy Loss dựa vào độ sai lệch giữa dự đoán và label thật.\n",
        "        loss = loss_fn(pred_y, y)\n",
        "\n",
        "        # Phải cố tình cho gradient về 0, nếu không gradient sẽ tích trữ và học sai\n",
        "        optimizer.zero_grad()\n",
        "        # Back propagation: model tìm gradient để sửa lỗi\n",
        "        loss.backward()\n",
        "        # Sửa lại lỗi bằng cách update lại weight với gradient\n",
        "        optimizer.step()\n",
        "\n",
        "        # Ta sử dụng argmax để lấy index của chữ cái nào có xác xuất lớn nhất trong 10 chữ cái\n",
        "        processed_pred_y = torch.argmax(pred_y, dim=1)\n",
        "        correct += (processed_pred_y == y).float().sum()\n",
        "\n",
        "    total_loss += loss\n",
        "    # Tính độ chính xác của dự đoán so với label thực tế\n",
        "    accuracy = 100 * correct / len(train_dataset)\n",
        "    # In loss và độ chính xác cho mỗi epoch\n",
        "    print(f\"Epoch: {epoch}, loss: {total_loss}, accuracy: {accuracy:.2f}%\")"
      ],
      "metadata": {
        "colab": {
          "base_uri": "https://localhost:8080/"
        },
        "id": "IgCwKj6grQyW",
        "outputId": "8265cfb1-bbb0-407b-ef6d-2b3d48f47b01"
      },
      "execution_count": 22,
      "outputs": [
        {
          "output_type": "stream",
          "name": "stderr",
          "text": [
            "/usr/local/lib/python3.11/dist-packages/torch/nn/modules/module.py:1736: UserWarning: Implicit dimension choice for softmax has been deprecated. Change the call to include dim=X as an argument.\n",
            "  return self._call_impl(*args, **kwargs)\n"
          ]
        },
        {
          "output_type": "stream",
          "name": "stdout",
          "text": [
            "Epoch: 1, loss: 1.54558527469635, accuracy: 90.86%\n",
            "Epoch: 2, loss: 1.613467812538147, accuracy: 96.71%\n",
            "Epoch: 3, loss: 1.4615898132324219, accuracy: 97.14%\n",
            "Epoch: 4, loss: 1.4632034301757812, accuracy: 97.29%\n",
            "Epoch: 5, loss: 1.493854284286499, accuracy: 97.50%\n",
            "Epoch: 6, loss: 1.4855746030807495, accuracy: 97.44%\n"
          ]
        }
      ]
    },
    {
      "cell_type": "code",
      "source": [
        "def test(dataloader, model):\n",
        "    correct_preds = 0\n",
        "    total = 0\n",
        "    for batch_index, (X, y) in enumerate(dataloader):\n",
        "        # Chuyển dữ liệu ảnh và label đến GPU hoặc CPU\n",
        "        X = X.to(device)\n",
        "        y = y.to(device)\n",
        "        # Cho model dự đoán\n",
        "        predictions = model(X)\n",
        "        processed_preds = torch.argmax(predictions, dim=1)\n",
        "        correct_preds += torch.sum(processed_preds==y).item()\n",
        "        total += X.shape[0]\n",
        "\n",
        "    accuracy = correct_preds/total\n",
        "    print(f\"{accuracy*100:.5f}%\")"
      ],
      "metadata": {
        "id": "wVm8eSNsrZUl"
      },
      "execution_count": 23,
      "outputs": []
    },
    {
      "cell_type": "code",
      "source": [
        "test(test_dataloader, cnn)"
      ],
      "metadata": {
        "colab": {
          "base_uri": "https://localhost:8080/"
        },
        "id": "Jz48JghBr6fC",
        "outputId": "158ddef1-3049-454b-de44-6dc5a0464e42"
      },
      "execution_count": 24,
      "outputs": [
        {
          "output_type": "stream",
          "name": "stderr",
          "text": [
            "/usr/local/lib/python3.11/dist-packages/torch/nn/modules/module.py:1736: UserWarning: Implicit dimension choice for softmax has been deprecated. Change the call to include dim=X as an argument.\n",
            "  return self._call_impl(*args, **kwargs)\n"
          ]
        },
        {
          "output_type": "stream",
          "name": "stdout",
          "text": [
            "97.86000%\n"
          ]
        }
      ]
    },
    {
      "cell_type": "code",
      "source": [
        "i = 1\n",
        "figure = plt.figure(figsize=(8, 8))\n",
        "cols, rows = 3, 3\n",
        "while os.path.exists(f\"/content/data_test/{i}.png\"):\n",
        "  img = cv2.imread(f\"/content/data_test/{i}.png\", cv2.IMREAD_GRAYSCALE)\n",
        "  img = cv2.resize(img, (28, 28))\n",
        "  img = img.reshape(1, 1, 28, 28)\n",
        "  img = np.invert(img)\n",
        "  plt.subplot(rows, cols, i)\n",
        "  plt.imshow(img.squeeze(), cmap=\"gray\")\n",
        "  img = torch.tensor(img, dtype=torch.float32)\n",
        "  img = img.to(device)\n",
        "  pred = cnn(img)\n",
        "  pred = torch.argmax(pred, dim=1)\n",
        "  plt.title(f\"Label: {i}, Predict: {pred.item()}\")\n",
        "  plt.axis(\"off\")\n",
        "  i+=1"
      ],
      "metadata": {
        "colab": {
          "base_uri": "https://localhost:8080/",
          "height": 675
        },
        "id": "1nzSqioQteY2",
        "outputId": "f2cfc8fc-70e6-464b-f334-f9c91f7114af"
      },
      "execution_count": 36,
      "outputs": [
        {
          "output_type": "display_data",
          "data": {
            "text/plain": [
              "<Figure size 800x800 with 9 Axes>"
            ],
            "image/png": "[encoded data removed]"
          },
          "metadata": {}
        }
      ]
    },
    {
      "cell_type": "code",
      "source": [
        "# Save model\n",
        "torch.save(cnn.state_dict(), 'model.pth')"
      ],
      "metadata": {
        "id": "fAaMgOoeuDn-"
      },
      "execution_count": 37,
      "outputs": []
    },
    {
      "cell_type": "code",
      "source": [],
      "metadata": {
        "id": "TvPoOhDKwODV"
      },
      "execution_count": null,
      "outputs": []
    }
  ]
}